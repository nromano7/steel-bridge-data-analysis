{
 "cells": [
  {
   "cell_type": "code",
   "execution_count": 1,
   "metadata": {
    "collapsed": true
   },
   "outputs": [],
   "source": [
    "from IPython.core.interactiveshell import InteractiveShell\n",
    "InteractiveShell.ast_node_interactivity = \"all\""
   ]
  },
  {
   "cell_type": "code",
   "execution_count": 2,
   "metadata": {},
   "outputs": [
    {
     "name": "stdout",
     "output_type": "stream",
     "text": [
      "Python version: 3.6.1 |Anaconda 4.4.0 (64-bit)| (default, May 11 2017, 13:25:24) [MSC v.1900 64 bit (AMD64)]\n",
      "pandas version: 0.20.1 name: pd\n",
      "NumPy version: 1.12.1 name: np\n",
      "SciPy version: 0.19.0 name: sp\n",
      "IPython version: 5.3.0\n",
      "scikit-learn version: 0.18.1\n",
      "matplotlib version: 2.0.2\n",
      "plotly version: 2.0.11\n"
     ]
    }
   ],
   "source": [
    "%run imports.py"
   ]
  },
  {
   "cell_type": "markdown",
   "metadata": {},
   "source": [
    "# Read raw data from excel file into Pandas dataframe"
   ]
  },
  {
   "cell_type": "code",
   "execution_count": 3,
   "metadata": {
    "collapsed": true
   },
   "outputs": [],
   "source": [
    "import dataset as ds"
   ]
  },
  {
   "cell_type": "code",
   "execution_count": 4,
   "metadata": {
    "collapsed": true
   },
   "outputs": [],
   "source": [
    "para_df = ds.load_dataset('data/parameters_1.csv')"
   ]
  },
  {
   "cell_type": "code",
   "execution_count": 5,
   "metadata": {},
   "outputs": [
    {
     "data": {
      "text/html": [
       "<div>\n",
       "<style>\n",
       "    .dataframe thead tr:only-child th {\n",
       "        text-align: right;\n",
       "    }\n",
       "\n",
       "    .dataframe thead th {\n",
       "        text-align: left;\n",
       "    }\n",
       "\n",
       "    .dataframe tbody tr th {\n",
       "        vertical-align: top;\n",
       "    }\n",
       "</style>\n",
       "<table border=\"1\" class=\"dataframe\">\n",
       "  <thead>\n",
       "    <tr style=\"text-align: right;\">\n",
       "      <th></th>\n",
       "      <th>ï»¿id</th>\n",
       "      <th>suite</th>\n",
       "      <th>type</th>\n",
       "      <th>spans</th>\n",
       "      <th>length</th>\n",
       "      <th>width</th>\n",
       "      <th>n_lanes</th>\n",
       "      <th>skew</th>\n",
       "      <th>gdr_spacing</th>\n",
       "      <th>span2depth</th>\n",
       "      <th>...</th>\n",
       "      <th>extgdr_llmneg</th>\n",
       "      <th>extgdr_dlv</th>\n",
       "      <th>extgdr_sdlv</th>\n",
       "      <th>extgdr_llv</th>\n",
       "      <th>extgdr_ftgstress</th>\n",
       "      <th>extgdr_st1rtgpos</th>\n",
       "      <th>extgdr_sv2rtgpos</th>\n",
       "      <th>extgdr_st1rtgneg</th>\n",
       "      <th>extgdr_sv2rtgneg</th>\n",
       "      <th>extgdr_vrtg</th>\n",
       "    </tr>\n",
       "  </thead>\n",
       "  <tbody>\n",
       "    <tr>\n",
       "      <th>0</th>\n",
       "      <td>Steel_1_1_1</td>\n",
       "      <td>1</td>\n",
       "      <td>Steel</td>\n",
       "      <td>1</td>\n",
       "      <td>1026.847164</td>\n",
       "      <td>775.4386448</td>\n",
       "      <td>5</td>\n",
       "      <td>15.29909456</td>\n",
       "      <td>110.7769493</td>\n",
       "      <td>26.68585307</td>\n",
       "      <td>...</td>\n",
       "      <td></td>\n",
       "      <td>49638.5433</td>\n",
       "      <td>3610.009563</td>\n",
       "      <td>115710.401</td>\n",
       "      <td>11999.40845</td>\n",
       "      <td>1.97004358</td>\n",
       "      <td>2.157130216</td>\n",
       "      <td></td>\n",
       "      <td></td>\n",
       "      <td>1.026570762</td>\n",
       "    </tr>\n",
       "    <tr>\n",
       "      <th>1</th>\n",
       "      <td>Steel_1_1_2</td>\n",
       "      <td>1</td>\n",
       "      <td>Steel</td>\n",
       "      <td>1</td>\n",
       "      <td>558.6585845</td>\n",
       "      <td>551.2656226</td>\n",
       "      <td>3</td>\n",
       "      <td>6.972710004</td>\n",
       "      <td>91.87760377</td>\n",
       "      <td>25.43970654</td>\n",
       "      <td>...</td>\n",
       "      <td></td>\n",
       "      <td>22566.25811</td>\n",
       "      <td>2244.610384</td>\n",
       "      <td>89967.57794</td>\n",
       "      <td>11994.91732</td>\n",
       "      <td>2.315146862</td>\n",
       "      <td>2.484986482</td>\n",
       "      <td></td>\n",
       "      <td></td>\n",
       "      <td>1.176910647</td>\n",
       "    </tr>\n",
       "  </tbody>\n",
       "</table>\n",
       "<p>2 rows × 77 columns</p>\n",
       "</div>"
      ],
      "text/plain": [
       "         ï»¿id suite   type spans       length        width n_lanes  \\\n",
       "0  Steel_1_1_1     1  Steel     1  1026.847164  775.4386448       5   \n",
       "1  Steel_1_1_2     1  Steel     1  558.6585845  551.2656226       3   \n",
       "\n",
       "          skew  gdr_spacing   span2depth     ...      extgdr_llmneg  \\\n",
       "0  15.29909456  110.7769493  26.68585307     ...                      \n",
       "1  6.972710004  91.87760377  25.43970654     ...                      \n",
       "\n",
       "    extgdr_dlv  extgdr_sdlv   extgdr_llv extgdr_ftgstress extgdr_st1rtgpos  \\\n",
       "0   49638.5433  3610.009563   115710.401      11999.40845       1.97004358   \n",
       "1  22566.25811  2244.610384  89967.57794      11994.91732      2.315146862   \n",
       "\n",
       "  extgdr_sv2rtgpos extgdr_st1rtgneg extgdr_sv2rtgneg  extgdr_vrtg  \n",
       "0      2.157130216                                    1.026570762  \n",
       "1      2.484986482                                    1.176910647  \n",
       "\n",
       "[2 rows x 77 columns]"
      ]
     },
     "execution_count": 5,
     "metadata": {},
     "output_type": "execute_result"
    },
    {
     "data": {
      "text/html": [
       "<div>\n",
       "<style>\n",
       "    .dataframe thead tr:only-child th {\n",
       "        text-align: right;\n",
       "    }\n",
       "\n",
       "    .dataframe thead th {\n",
       "        text-align: left;\n",
       "    }\n",
       "\n",
       "    .dataframe tbody tr th {\n",
       "        vertical-align: top;\n",
       "    }\n",
       "</style>\n",
       "<table border=\"1\" class=\"dataframe\">\n",
       "  <thead>\n",
       "    <tr style=\"text-align: right;\">\n",
       "      <th></th>\n",
       "      <th>ï»¿id</th>\n",
       "      <th>suite</th>\n",
       "      <th>type</th>\n",
       "      <th>spans</th>\n",
       "      <th>length</th>\n",
       "      <th>width</th>\n",
       "      <th>n_lanes</th>\n",
       "      <th>skew</th>\n",
       "      <th>gdr_spacing</th>\n",
       "      <th>span2depth</th>\n",
       "      <th>...</th>\n",
       "      <th>extgdr_llmneg</th>\n",
       "      <th>extgdr_dlv</th>\n",
       "      <th>extgdr_sdlv</th>\n",
       "      <th>extgdr_llv</th>\n",
       "      <th>extgdr_ftgstress</th>\n",
       "      <th>extgdr_st1rtgpos</th>\n",
       "      <th>extgdr_sv2rtgpos</th>\n",
       "      <th>extgdr_st1rtgneg</th>\n",
       "      <th>extgdr_sv2rtgneg</th>\n",
       "      <th>extgdr_vrtg</th>\n",
       "    </tr>\n",
       "  </thead>\n",
       "  <tbody>\n",
       "    <tr>\n",
       "      <th>198</th>\n",
       "      <td>Steel_1_2_99</td>\n",
       "      <td>2</td>\n",
       "      <td>Steel</td>\n",
       "      <td>1</td>\n",
       "      <td>1770.014207</td>\n",
       "      <td>550.9702711</td>\n",
       "      <td>3</td>\n",
       "      <td>50.27578683</td>\n",
       "      <td>78.71003873</td>\n",
       "      <td>20.24070144</td>\n",
       "      <td>...</td>\n",
       "      <td></td>\n",
       "      <td>81943.09409</td>\n",
       "      <td>6222.706195</td>\n",
       "      <td>149339.1828</td>\n",
       "      <td>7778.452721</td>\n",
       "      <td>2.707244477</td>\n",
       "      <td>2.173909873</td>\n",
       "      <td></td>\n",
       "      <td></td>\n",
       "      <td>1.034934229</td>\n",
       "    </tr>\n",
       "    <tr>\n",
       "      <th>199</th>\n",
       "      <td>Steel_1_2_100</td>\n",
       "      <td>2</td>\n",
       "      <td>Steel</td>\n",
       "      <td>1</td>\n",
       "      <td>1686.431935</td>\n",
       "      <td>588.2781017</td>\n",
       "      <td>4</td>\n",
       "      <td>2.505389218</td>\n",
       "      <td>117.6556203</td>\n",
       "      <td>22.90516568</td>\n",
       "      <td>...</td>\n",
       "      <td></td>\n",
       "      <td>89714.14907</td>\n",
       "      <td>7905.149702</td>\n",
       "      <td>147009.8612</td>\n",
       "      <td>11852.00227</td>\n",
       "      <td>2.006462242</td>\n",
       "      <td>1.859629349</td>\n",
       "      <td></td>\n",
       "      <td></td>\n",
       "      <td>1.041782239</td>\n",
       "    </tr>\n",
       "  </tbody>\n",
       "</table>\n",
       "<p>2 rows × 77 columns</p>\n",
       "</div>"
      ],
      "text/plain": [
       "             ï»¿id suite   type spans       length        width n_lanes  \\\n",
       "198   Steel_1_2_99     2  Steel     1  1770.014207  550.9702711       3   \n",
       "199  Steel_1_2_100     2  Steel     1  1686.431935  588.2781017       4   \n",
       "\n",
       "            skew  gdr_spacing   span2depth     ...      extgdr_llmneg  \\\n",
       "198  50.27578683  78.71003873  20.24070144     ...                      \n",
       "199  2.505389218  117.6556203  22.90516568     ...                      \n",
       "\n",
       "      extgdr_dlv  extgdr_sdlv   extgdr_llv extgdr_ftgstress extgdr_st1rtgpos  \\\n",
       "198  81943.09409  6222.706195  149339.1828      7778.452721      2.707244477   \n",
       "199  89714.14907  7905.149702  147009.8612      11852.00227      2.006462242   \n",
       "\n",
       "    extgdr_sv2rtgpos extgdr_st1rtgneg extgdr_sv2rtgneg  extgdr_vrtg  \n",
       "198      2.173909873                                    1.034934229  \n",
       "199      1.859629349                                    1.041782239  \n",
       "\n",
       "[2 rows x 77 columns]"
      ]
     },
     "execution_count": 5,
     "metadata": {},
     "output_type": "execute_result"
    }
   ],
   "source": [
    "para_df.head(2)\n",
    "para_df.tail(2)"
   ]
  },
  {
   "cell_type": "code",
   "execution_count": null,
   "metadata": {
    "collapsed": true
   },
   "outputs": [],
   "source": []
  }
 ],
 "metadata": {
  "kernelspec": {
   "display_name": "Python 3",
   "language": "python",
   "name": "python3"
  },
  "language_info": {
   "codemirror_mode": {
    "name": "ipython",
    "version": 3
   },
   "file_extension": ".py",
   "mimetype": "text/x-python",
   "name": "python",
   "nbconvert_exporter": "python",
   "pygments_lexer": "ipython3",
   "version": "3.6.1"
  }
 },
 "nbformat": 4,
 "nbformat_minor": 2
}
